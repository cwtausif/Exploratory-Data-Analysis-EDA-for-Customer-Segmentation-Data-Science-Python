{
 "cells": [
  {
   "cell_type": "markdown",
   "id": "15212ad0",
   "metadata": {},
   "source": [
    "# Exploratory Data Analysis (EDA) for Customer Segmentation\n",
    "\n",
    "#### Description: \n",
    "TechElectro Inc. is a prominent electronics retailer with a widespread customer base. They are keen on gaining deeper insights into their customers' preferences and behaviors to optimize their marketing strategies and enhance customer satisfaction. Glowingsoft Technologies has been selected to conduct an exploratory data analysis (EDA) project that will help TechElectro Inc. discover meaningful patterns and segment their customers based on their characteristics."
   ]
  },
  {
   "cell_type": "markdown",
   "id": "a0240aed",
   "metadata": {},
   "source": [
    "### Client Name: TechElectro Inc.\n",
    "### Company Name: Glowingsoft Technologies\n",
    "### <span style=\"color:blue;\">Data Scientist: Tausif Ul Rahman</span>\n",
    "### Contact Now: cwtausif@gmail.com\n",
    "\n",
    " "
   ]
  },
  {
   "cell_type": "markdown",
   "id": "dca28274",
   "metadata": {},
   "source": [
    "### Steps:\n",
    "\n",
    "Data Collection: Obtain the dataset from TechElectro Inc., containing customer information, purchase history, demographics, and preferences.\n",
    "\n",
    "Data Cleaning: Clean the dataset by handling missing values, duplicates, and any inconsistencies.\n",
    "\n",
    "Data Preprocessing: Perform feature scaling, normalization, and encode categorical variables if needed.\n",
    "\n",
    "Exploratory Data Analysis: Utilize Python libraries (e.g., Pandas, Matplotlib, Seaborn) to visualize and explore the data, uncovering patterns and insights about customer behavior.\n",
    "\n",
    "Customer Segmentation: Apply clustering algorithms (e.g., K-means) to segment customers based on their buying patterns, demographics, and preferences."
   ]
  },
  {
   "cell_type": "markdown",
   "id": "c79d3ca2",
   "metadata": {},
   "source": [
    "### Tools: Python, Jupyter Notebook, Pandas, Matplotlib, Seaborn, Scikit-learn"
   ]
  },
  {
   "cell_type": "markdown",
   "id": "072c4281",
   "metadata": {},
   "source": [
    "### Deployment:\n",
    "After completing the EDA and customer segmentation, DataGenius Analytics will create an interactive dashboard using Dash or Streamlit. This dashboard will allow TechElectro Inc. to explore the customer segments and access visualizations that reveal customer preferences, helping them optimize marketing campaigns and tailor their offerings to specific customer groups."
   ]
  },
  {
   "cell_type": "markdown",
   "id": "6d26f19d",
   "metadata": {},
   "source": [
    "### Project Outcome: \n",
    "The final deliverables will include a Jupyter Notebook containing the EDA process, a report detailing the insights and identified customer segments, and an interactive dashboard deployed for TechElectro Inc. to use in their business decisions. The project's aim is to provide valuable information that will enable TechElectro Inc. to improve customer satisfaction and increase sales through targeted marketing strategies. DataGenius Analytics will also provide recommendations for further analysis and potential areas of improvement."
   ]
  },
  {
   "cell_type": "markdown",
   "id": "b28ab0c9",
   "metadata": {},
   "source": [
    "Dataset Sample: TechElectro_Customer_Data.csv\n",
    "\n",
    "| CustomerID | Age | Gender | MaritalStatus | AnnualIncome (USD) | TotalPurchases | PreferredCategory |\n",
    "|------------|-----|--------|---------------|-------------------|----------------|-------------------|\n",
    "| 1001       | 33  | Male   | Married       | 65000             | 18             | Electronics       |\n",
    "| 1002       | 28  | Female | Single        | 45000             | 15             | Appliances        |\n",
    "| 1003       | 42  | Male   | Single        | 55000             | 20             | Electronics       |\n",
    "| 1004       | 51  | Female | Married       | 80000             | 12             | Electronics       |\n",
    "| 1005       | 37  | Male   | Divorced      | 58000             | 10             | Appliances\n",
    "\n",
    "### Description of the columns:\n",
    "\n",
    "CustomerID: Unique identifier for each customer.\n",
    "\n",
    "Age: Age of the customer.\n",
    "\n",
    "Gender: Gender of the customer (Male/Female).\n",
    "\n",
    "MaritalStatus: Marital status of the customer (Married/Single/Divorced).\n",
    "\n",
    "AnnualIncome: Annual income of the customer in USD.\n",
    "\n",
    "TotalPurchases: Total number of purchases made by the customer.\n",
    "\n",
    "PreferredCategory: The category of products the customer prefers (e.g., Electronics, Appliances).\n",
    "\n",
    "(Note: The dataset should contains a total of 500 customers.)\n"
   ]
  },
  {
   "cell_type": "markdown",
   "id": "69fec8ff",
   "metadata": {},
   "source": [
    "### Step: Import Libraries"
   ]
  },
  {
   "cell_type": "code",
   "execution_count": 1,
   "id": "c1368f08",
   "metadata": {},
   "outputs": [],
   "source": [
    "import pandas as pd\n",
    "import random"
   ]
  },
  {
   "cell_type": "markdown",
   "id": "4fe454f4",
   "metadata": {},
   "source": [
    "### Step: Create CSV File"
   ]
  },
  {
   "cell_type": "code",
   "execution_count": 2,
   "id": "a8903c2a",
   "metadata": {},
   "outputs": [],
   "source": [
    "# create an empty Data Frame\n",
    "df = pd.DataFrame()\n",
    "\n",
    "# File path for csv\n",
    "file_path = \"TechElectro_Customer_Data.csv\"\n",
    "\n",
    "# Create CSV\n",
    "df.to_csv(file_path,index=False)"
   ]
  },
  {
   "cell_type": "markdown",
   "id": "e100e475",
   "metadata": {},
   "source": [
    "### Step:  Read CSV File"
   ]
  },
  {
   "cell_type": "code",
   "execution_count": 3,
   "id": "940d5ad5",
   "metadata": {},
   "outputs": [
    {
     "name": "stdout",
     "output_type": "stream",
     "text": [
      "Data set is empty or have no columns\n"
     ]
    }
   ],
   "source": [
    "try:\n",
    "    df = pd.read_csv(file_path)\n",
    "    # Display the DataFrame\n",
    "    print(df)\n",
    "except pd.errors.EmptyDataError:\n",
    "    print(\"Data set is empty or have no columns\")\n",
    "except FileNotFoundError:\n",
    "    print(f\"File '{file_path}' not found\")\n",
    "except Exception as e:\n",
    "    print(f\"An unexpected error occurs '{e}'\")"
   ]
  },
  {
   "cell_type": "markdown",
   "id": "97e197ed",
   "metadata": {},
   "source": [
    "### Step: Create Columns"
   ]
  },
  {
   "cell_type": "code",
   "execution_count": 4,
   "id": "869bc9ce",
   "metadata": {},
   "outputs": [
    {
     "name": "stdout",
     "output_type": "stream",
     "text": [
      "Empty csv with columns\n",
      "\n",
      "'CustomerID,Age,Gender,Marital Status,AnnualIncome,TotalPurchases'\n",
      "\n",
      "has been created successfully\n",
      "Empty DataFrame\n",
      "Columns: [CustomerID, Age, Gender, Marital Status, AnnualIncome, TotalPurchases]\n",
      "Index: []\n"
     ]
    }
   ],
   "source": [
    "# Define column names list for the csv\n",
    "columns = [\"CustomerID\",\"Age\",\"Gender\",\"Marital Status\",\"AnnualIncome\",\"TotalPurchases\"]\n",
    "\n",
    "# Crete an empty dataframe with specified columns\n",
    "df = pd.DataFrame(columns=columns)\n",
    "df.to_csv(file_path,index=False)\n",
    "print(f\"Empty csv with columns\\n\\n'{','.join(columns)}'\\n\\nhas been created successfully\")\n",
    "print(df)"
   ]
  },
  {
   "cell_type": "markdown",
   "id": "c6942cd2",
   "metadata": {},
   "source": [
    "### Step: Ad Another Column"
   ]
  },
  {
   "cell_type": "code",
   "execution_count": 5,
   "id": "1aa0e187",
   "metadata": {},
   "outputs": [
    {
     "name": "stdout",
     "output_type": "stream",
     "text": [
      "A new column PreferredCategory added to csv successfully\n"
     ]
    },
    {
     "data": {
      "text/html": [
       "<div>\n",
       "<style scoped>\n",
       "    .dataframe tbody tr th:only-of-type {\n",
       "        vertical-align: middle;\n",
       "    }\n",
       "\n",
       "    .dataframe tbody tr th {\n",
       "        vertical-align: top;\n",
       "    }\n",
       "\n",
       "    .dataframe thead th {\n",
       "        text-align: right;\n",
       "    }\n",
       "</style>\n",
       "<table border=\"1\" class=\"dataframe\">\n",
       "  <thead>\n",
       "    <tr style=\"text-align: right;\">\n",
       "      <th></th>\n",
       "      <th>CustomerID</th>\n",
       "      <th>Age</th>\n",
       "      <th>Gender</th>\n",
       "      <th>Marital Status</th>\n",
       "      <th>AnnualIncome</th>\n",
       "      <th>TotalPurchases</th>\n",
       "      <th>PreferredCategory</th>\n",
       "    </tr>\n",
       "  </thead>\n",
       "  <tbody>\n",
       "  </tbody>\n",
       "</table>\n",
       "</div>"
      ],
      "text/plain": [
       "Empty DataFrame\n",
       "Columns: [CustomerID, Age, Gender, Marital Status, AnnualIncome, TotalPurchases, PreferredCategory]\n",
       "Index: []"
      ]
     },
     "execution_count": 5,
     "metadata": {},
     "output_type": "execute_result"
    }
   ],
   "source": [
    "# Ad another column PreferredCategory\n",
    "df = pd.read_csv(file_path)\n",
    "\n",
    "df[\"PreferredCategory\"] = None\n",
    "df.to_csv(file_path,index=False)\n",
    "\n",
    "print(f\"A new column PreferredCategory added to csv successfully\")\n",
    "df"
   ]
  },
  {
   "cell_type": "markdown",
   "id": "bea089ab",
   "metadata": {},
   "source": [
    "### Step: Remove space from column names"
   ]
  },
  {
   "cell_type": "code",
   "execution_count": 6,
   "id": "de29c675",
   "metadata": {},
   "outputs": [
    {
     "data": {
      "text/plain": [
       "Index(['CustomerID', 'Age', 'Gender', 'MaritalStatus', 'AnnualIncome',\n",
       "       'TotalPurchases', 'PreferredCategory'],\n",
       "      dtype='object')"
      ]
     },
     "execution_count": 6,
     "metadata": {},
     "output_type": "execute_result"
    }
   ],
   "source": [
    "# Read CSV File\n",
    "df = pd.read_csv(file_path)\n",
    "\n",
    "# Remove Space\n",
    "df.columns = df.columns.str.replace(' ','')\n",
    "df.to_csv(file_path,index=False)\n",
    "\n",
    "# Verify\n",
    "df = pd.read_csv(file_path)\n",
    "df.columns"
   ]
  },
  {
   "cell_type": "markdown",
   "id": "352cf1bf",
   "metadata": {},
   "source": [
    "### Step: Data Creation"
   ]
  },
  {
   "cell_type": "markdown",
   "id": "4df76e86",
   "metadata": {},
   "source": [
    "#### 1. CustomerID"
   ]
  },
  {
   "cell_type": "code",
   "execution_count": 7,
   "id": "75f87b19",
   "metadata": {},
   "outputs": [
    {
     "name": "stdout",
     "output_type": "stream",
     "text": [
      "[1496, 1497, 1498, 1499, 1500]\n"
     ]
    },
    {
     "data": {
      "text/plain": [
       "500"
      ]
     },
     "execution_count": 7,
     "metadata": {},
     "output_type": "execute_result"
    }
   ],
   "source": [
    "# Create 500 customer ids starting from 1000\n",
    "customerIds = []\n",
    "for i in range (1001,1501):\n",
    "    customerIds.append(i)\n",
    "    \n",
    "print(customerIds[495:]) # Last Few\n",
    "len(customerIds)"
   ]
  },
  {
   "cell_type": "markdown",
   "id": "8f6181b1",
   "metadata": {},
   "source": [
    "#### 2. Age"
   ]
  },
  {
   "cell_type": "code",
   "execution_count": 8,
   "id": "709e0ec2",
   "metadata": {},
   "outputs": [
    {
     "name": "stdout",
     "output_type": "stream",
     "text": [
      "[44, 41, 20, 59, 50]\n"
     ]
    },
    {
     "data": {
      "text/plain": [
       "500"
      ]
     },
     "execution_count": 8,
     "metadata": {},
     "output_type": "execute_result"
    }
   ],
   "source": [
    "# Create 500 ages of the people ranging from 20-75 using list comprehension\n",
    "\n",
    "ages = [random.randint(20,75) for _ in range(500)]\n",
    "\n",
    "## Print last few\n",
    "print(ages[495:])\n",
    "## Total Verify\n",
    "len(ages)"
   ]
  },
  {
   "cell_type": "markdown",
   "id": "e423de19",
   "metadata": {},
   "source": [
    "#### 3. Gender"
   ]
  },
  {
   "cell_type": "code",
   "execution_count": 9,
   "id": "94eab379",
   "metadata": {},
   "outputs": [
    {
     "data": {
      "text/plain": [
       "500"
      ]
     },
     "execution_count": 9,
     "metadata": {},
     "output_type": "execute_result"
    }
   ],
   "source": [
    "# Create 500 Gender data\n",
    "genders_choice = [\"Male\",\"Female\"]\n",
    "genders = [random.choice(genders_choice) for _ in range(500)]\n",
    "\n",
    "# Print Few\n",
    "genders[:4]\n",
    "# verify\n",
    "len(genders)"
   ]
  },
  {
   "cell_type": "markdown",
   "id": "27785e9a",
   "metadata": {},
   "source": [
    "#### 4. MaritalStatus"
   ]
  },
  {
   "cell_type": "code",
   "execution_count": 10,
   "id": "f3e3d232",
   "metadata": {},
   "outputs": [
    {
     "name": "stdout",
     "output_type": "stream",
     "text": [
      "['Single', 'Divorced', 'Divorced', 'Married', 'Single', 'Single', 'Single', 'Married', 'Married', 'Divorced']\n"
     ]
    },
    {
     "data": {
      "text/plain": [
       "500"
      ]
     },
     "execution_count": 10,
     "metadata": {},
     "output_type": "execute_result"
    }
   ],
   "source": [
    "#MaritalStatus\n",
    "marital_status = [\"Married\",\"Single\",\"Divorced\"]\n",
    "maritalStatuses = [random.choice(marital_status) for _ in range(500)]\n",
    "\n",
    "# Print few\n",
    "print(maritalStatuses[:10])\n",
    "len(maritalStatuses)"
   ]
  },
  {
   "cell_type": "markdown",
   "id": "c567afe3",
   "metadata": {},
   "source": [
    "#### 6. AnnualIncome"
   ]
  },
  {
   "cell_type": "code",
   "execution_count": 17,
   "id": "49a31f7f",
   "metadata": {
    "scrolled": true
   },
   "outputs": [
    {
     "name": "stdout",
     "output_type": "stream",
     "text": [
      "[119633, 882456, 917189, 938846, 908631, 311854, 470066, 781524, 729674]\n"
     ]
    },
    {
     "data": {
      "text/plain": [
       "500"
      ]
     },
     "execution_count": 17,
     "metadata": {},
     "output_type": "execute_result"
    }
   ],
   "source": [
    "#AnnualIncome\n",
    "annualIncome = [random.randint(100000,1000000) for _ in range(500)]\n",
    "\n",
    "#print few\n",
    "print(annualIncome[:9])\n",
    "#verify length\n",
    "len(annualIncome)"
   ]
  },
  {
   "cell_type": "markdown",
   "id": "71762e04",
   "metadata": {},
   "source": [
    "#### 7. TotalPurchases"
   ]
  },
  {
   "cell_type": "code",
   "execution_count": 18,
   "id": "eb44fcfc",
   "metadata": {},
   "outputs": [
    {
     "name": "stdout",
     "output_type": "stream",
     "text": [
      "[33, 14, 6, 8, 8]\n"
     ]
    },
    {
     "data": {
      "text/plain": [
       "500"
      ]
     },
     "execution_count": 18,
     "metadata": {},
     "output_type": "execute_result"
    }
   ],
   "source": [
    "#Total Purchases\n",
    "totalPurchases = [random.randint(1,50) for _ in range(500)]\n",
    "\n",
    "#print few\n",
    "print(totalPurchases[:5])\n",
    "#verify length\n",
    "len(totalPurchases)"
   ]
  },
  {
   "cell_type": "markdown",
   "id": "64dddc0b",
   "metadata": {},
   "source": [
    "#### 8. PreferredCategory"
   ]
  },
  {
   "cell_type": "code",
   "execution_count": 19,
   "id": "02076a95",
   "metadata": {},
   "outputs": [
    {
     "name": "stdout",
     "output_type": "stream",
     "text": [
      "['Appliances', 'Appliances', 'Appliances', 'Electronics', 'Appliances', 'Appliances', 'Electronics', 'Appliances', 'Electronics', 'Appliances', 'Appliances', 'Electronics', 'Electronics', 'Electronics', 'Electronics']\n"
     ]
    },
    {
     "data": {
      "text/plain": [
       "500"
      ]
     },
     "execution_count": 19,
     "metadata": {},
     "output_type": "execute_result"
    }
   ],
   "source": [
    "#PreferredCategory\n",
    "preferredcategory_choices = [\"Electronics\",\"Appliances\"]\n",
    "preferredCategory = [random.choice(preferredcategory_choices) for _ in range(500)]\n",
    "\n",
    "# Print few\n",
    "print(preferredCategory[:15])\n",
    "len(preferredCategory)"
   ]
  },
  {
   "cell_type": "markdown",
   "id": "3f184e17",
   "metadata": {},
   "source": [
    "#### Step: Save Data to csv"
   ]
  },
  {
   "cell_type": "code",
   "execution_count": 28,
   "id": "20e9c2d6",
   "metadata": {},
   "outputs": [
    {
     "data": {
      "text/html": [
       "<div>\n",
       "<style scoped>\n",
       "    .dataframe tbody tr th:only-of-type {\n",
       "        vertical-align: middle;\n",
       "    }\n",
       "\n",
       "    .dataframe tbody tr th {\n",
       "        vertical-align: top;\n",
       "    }\n",
       "\n",
       "    .dataframe thead th {\n",
       "        text-align: right;\n",
       "    }\n",
       "</style>\n",
       "<table border=\"1\" class=\"dataframe\">\n",
       "  <thead>\n",
       "    <tr style=\"text-align: right;\">\n",
       "      <th></th>\n",
       "      <th>CustomerID</th>\n",
       "      <th>Age</th>\n",
       "      <th>Gender</th>\n",
       "      <th>MaritalStatus</th>\n",
       "      <th>AnnualIncome</th>\n",
       "      <th>TotalPurchases</th>\n",
       "      <th>PreferredCategory</th>\n",
       "    </tr>\n",
       "  </thead>\n",
       "  <tbody>\n",
       "    <tr>\n",
       "      <th>0</th>\n",
       "      <td>1001</td>\n",
       "      <td>72</td>\n",
       "      <td>Female</td>\n",
       "      <td>Single</td>\n",
       "      <td>119633</td>\n",
       "      <td>33</td>\n",
       "      <td>Appliances</td>\n",
       "    </tr>\n",
       "    <tr>\n",
       "      <th>1</th>\n",
       "      <td>1002</td>\n",
       "      <td>34</td>\n",
       "      <td>Male</td>\n",
       "      <td>Divorced</td>\n",
       "      <td>882456</td>\n",
       "      <td>14</td>\n",
       "      <td>Appliances</td>\n",
       "    </tr>\n",
       "    <tr>\n",
       "      <th>2</th>\n",
       "      <td>1003</td>\n",
       "      <td>40</td>\n",
       "      <td>Female</td>\n",
       "      <td>Divorced</td>\n",
       "      <td>917189</td>\n",
       "      <td>6</td>\n",
       "      <td>Appliances</td>\n",
       "    </tr>\n",
       "    <tr>\n",
       "      <th>3</th>\n",
       "      <td>1004</td>\n",
       "      <td>27</td>\n",
       "      <td>Female</td>\n",
       "      <td>Married</td>\n",
       "      <td>938846</td>\n",
       "      <td>8</td>\n",
       "      <td>Electronics</td>\n",
       "    </tr>\n",
       "    <tr>\n",
       "      <th>4</th>\n",
       "      <td>1005</td>\n",
       "      <td>66</td>\n",
       "      <td>Female</td>\n",
       "      <td>Single</td>\n",
       "      <td>908631</td>\n",
       "      <td>8</td>\n",
       "      <td>Appliances</td>\n",
       "    </tr>\n",
       "    <tr>\n",
       "      <th>...</th>\n",
       "      <td>...</td>\n",
       "      <td>...</td>\n",
       "      <td>...</td>\n",
       "      <td>...</td>\n",
       "      <td>...</td>\n",
       "      <td>...</td>\n",
       "      <td>...</td>\n",
       "    </tr>\n",
       "    <tr>\n",
       "      <th>495</th>\n",
       "      <td>1496</td>\n",
       "      <td>44</td>\n",
       "      <td>Male</td>\n",
       "      <td>Single</td>\n",
       "      <td>582269</td>\n",
       "      <td>20</td>\n",
       "      <td>Electronics</td>\n",
       "    </tr>\n",
       "    <tr>\n",
       "      <th>496</th>\n",
       "      <td>1497</td>\n",
       "      <td>41</td>\n",
       "      <td>Male</td>\n",
       "      <td>Married</td>\n",
       "      <td>702757</td>\n",
       "      <td>38</td>\n",
       "      <td>Electronics</td>\n",
       "    </tr>\n",
       "    <tr>\n",
       "      <th>497</th>\n",
       "      <td>1498</td>\n",
       "      <td>20</td>\n",
       "      <td>Male</td>\n",
       "      <td>Married</td>\n",
       "      <td>212893</td>\n",
       "      <td>9</td>\n",
       "      <td>Appliances</td>\n",
       "    </tr>\n",
       "    <tr>\n",
       "      <th>498</th>\n",
       "      <td>1499</td>\n",
       "      <td>59</td>\n",
       "      <td>Male</td>\n",
       "      <td>Married</td>\n",
       "      <td>704227</td>\n",
       "      <td>37</td>\n",
       "      <td>Appliances</td>\n",
       "    </tr>\n",
       "    <tr>\n",
       "      <th>499</th>\n",
       "      <td>1500</td>\n",
       "      <td>50</td>\n",
       "      <td>Female</td>\n",
       "      <td>Divorced</td>\n",
       "      <td>289868</td>\n",
       "      <td>44</td>\n",
       "      <td>Appliances</td>\n",
       "    </tr>\n",
       "  </tbody>\n",
       "</table>\n",
       "<p>500 rows × 7 columns</p>\n",
       "</div>"
      ],
      "text/plain": [
       "     CustomerID  Age  Gender MaritalStatus  AnnualIncome  TotalPurchases  \\\n",
       "0          1001   72  Female        Single        119633              33   \n",
       "1          1002   34    Male      Divorced        882456              14   \n",
       "2          1003   40  Female      Divorced        917189               6   \n",
       "3          1004   27  Female       Married        938846               8   \n",
       "4          1005   66  Female        Single        908631               8   \n",
       "..          ...  ...     ...           ...           ...             ...   \n",
       "495        1496   44    Male        Single        582269              20   \n",
       "496        1497   41    Male       Married        702757              38   \n",
       "497        1498   20    Male       Married        212893               9   \n",
       "498        1499   59    Male       Married        704227              37   \n",
       "499        1500   50  Female      Divorced        289868              44   \n",
       "\n",
       "    PreferredCategory  \n",
       "0          Appliances  \n",
       "1          Appliances  \n",
       "2          Appliances  \n",
       "3         Electronics  \n",
       "4          Appliances  \n",
       "..                ...  \n",
       "495       Electronics  \n",
       "496       Electronics  \n",
       "497        Appliances  \n",
       "498        Appliances  \n",
       "499        Appliances  \n",
       "\n",
       "[500 rows x 7 columns]"
      ]
     },
     "execution_count": 28,
     "metadata": {},
     "output_type": "execute_result"
    }
   ],
   "source": [
    "# Read CSV\n",
    "df = pd.read_csv(file_path)\n",
    "df.head\n",
    "\n",
    "data = {\n",
    "    'CustomerID':customerIds,\n",
    "    'Age':ages,\n",
    "    'Gender':genders,\n",
    "    'MaritalStatus':maritalStatuses,\n",
    "    'AnnualIncome':annualIncome,\n",
    "    'TotalPurchases':totalPurchases,\n",
    "    'PreferredCategory':preferredCategory\n",
    "}\n",
    "\n",
    "df = pd.DataFrame(data)\n",
    "df.to_csv(file_path,index=False)\n",
    "df.head(500)"
   ]
  },
  {
   "cell_type": "code",
   "execution_count": null,
   "id": "533ef6f4",
   "metadata": {},
   "outputs": [],
   "source": []
  },
  {
   "cell_type": "code",
   "execution_count": null,
   "id": "8295173d",
   "metadata": {},
   "outputs": [],
   "source": []
  },
  {
   "cell_type": "code",
   "execution_count": null,
   "id": "279f3ce6",
   "metadata": {},
   "outputs": [],
   "source": []
  },
  {
   "cell_type": "code",
   "execution_count": null,
   "id": "1afe1863",
   "metadata": {},
   "outputs": [],
   "source": []
  },
  {
   "cell_type": "code",
   "execution_count": null,
   "id": "38e7305c",
   "metadata": {},
   "outputs": [],
   "source": []
  },
  {
   "cell_type": "code",
   "execution_count": null,
   "id": "1e2fbc9a",
   "metadata": {},
   "outputs": [],
   "source": []
  },
  {
   "cell_type": "code",
   "execution_count": null,
   "id": "59e62377",
   "metadata": {},
   "outputs": [],
   "source": []
  },
  {
   "cell_type": "code",
   "execution_count": null,
   "id": "6e262564",
   "metadata": {},
   "outputs": [],
   "source": []
  }
 ],
 "metadata": {
  "kernelspec": {
   "display_name": "Python 3 (ipykernel)",
   "language": "python",
   "name": "python3"
  },
  "language_info": {
   "codemirror_mode": {
    "name": "ipython",
    "version": 3
   },
   "file_extension": ".py",
   "mimetype": "text/x-python",
   "name": "python",
   "nbconvert_exporter": "python",
   "pygments_lexer": "ipython3",
   "version": "3.9.13"
  }
 },
 "nbformat": 4,
 "nbformat_minor": 5
}
